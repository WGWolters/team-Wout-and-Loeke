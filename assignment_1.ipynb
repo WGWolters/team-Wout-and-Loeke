{
 "cells": [
  {
   "cell_type": "markdown",
   "metadata": {},
   "source": [
    "## Assignment 1\n",
    "\n"
   ]
  },
  {
   "cell_type": "markdown",
   "metadata": {},
   "source": [
    "This is the first of two assignments for the course Python: programming for economists. The course website explains how the grading of these two assignments works.\n",
    "\n",
    "As this is your first python assignment, we start with two example assignments that we solve for you. This gives you an idea of what is expected of you.\n",
    "\n",
    "Solving economic models is a bit too advanced for now (we cover that later in the course), so we will consider statistical problems. Most of these problems have analytical solutions, but we are not interested in that. We want you to simulate the problem and get the answer in this way.\n",
    "\n"
   ]
  },
  {
   "cell_type": "markdown",
   "metadata": {
    "jp-MarkdownHeadingCollapsed": true
   },
   "source": [
    "### Example 1\n",
    "\n"
   ]
  },
  {
   "cell_type": "markdown",
   "metadata": {},
   "source": [
    "A famous statistical puzzle is called [the birthday problem](https://en.wikipedia.org/wiki/Birthday_problem). There are $n$ people in a room. What is the probability that at least two of them have the same birthday. That is, their birthday is on the same day (e.g. August 1st). The question is not about their birth date (August 1st, 1987).\n",
    "\n",
    "How many people $n$ are needed for this probability to exceed 0.5?\n",
    "\n",
    "As the wikipedia site shows, you can calculate this analytically. But, again, we are not interested in this.\n",
    "\n",
    "To solve this problem, we will use two python libraries that we import here:\n",
    "\n"
   ]
  },
  {
   "cell_type": "code",
   "execution_count": 1,
   "metadata": {},
   "outputs": [],
   "source": [
    "import numpy as np\n",
    "import matplotlib.pyplot as plt"
   ]
  },
  {
   "cell_type": "markdown",
   "metadata": {},
   "source": [
    "To put some structure on the problem we are going to assume that there are 365 days in a year and that the distribution of birthdays over these 365 days is uniform. Hence you are equally likely to have your birthday on July 1st as on December 31st.\n",
    "\n",
    "We are going to solve this problem with simulation. We start with, say, $n=23$ people in the room. A birthday is a number between 0 and 365, where 0 represents January 1st and 364 is December 31st. Hence we draw 23 of these numbers and check whether some of these numbers are the same. If they are the same, we have \"two people with the same birthday\".\n",
    "\n",
    "How do we randomly generate numbers between 0 and 365 using numpy? Simply google \"numpy randomly select number\" and you will find a link to [https://numpy.org/doc/stable/reference/random/generated/numpy.random.randint.html](https://numpy.org/doc/stable/reference/random/generated/numpy.random.randint.html)\n",
    "\n",
    "Now that we know what we are looking for, we can read the documentation in our notebook:\n",
    "\n"
   ]
  },
  {
   "cell_type": "code",
   "execution_count": 2,
   "metadata": {},
   "outputs": [
    {
     "data": {
      "text/plain": [
       "\u001b[0;31mDocstring:\u001b[0m\n",
       "randint(low, high=None, size=None, dtype=int)\n",
       "\n",
       "Return random integers from `low` (inclusive) to `high` (exclusive).\n",
       "\n",
       "Return random integers from the \"discrete uniform\" distribution of\n",
       "the specified dtype in the \"half-open\" interval [`low`, `high`). If\n",
       "`high` is None (the default), then results are from [0, `low`).\n",
       "\n",
       ".. note::\n",
       "    New code should use the ``integers`` method of a ``default_rng()``\n",
       "    instance instead; please see the :ref:`random-quick-start`.\n",
       "\n",
       "Parameters\n",
       "----------\n",
       "low : int or array-like of ints\n",
       "    Lowest (signed) integers to be drawn from the distribution (unless\n",
       "    ``high=None``, in which case this parameter is one above the\n",
       "    *highest* such integer).\n",
       "high : int or array-like of ints, optional\n",
       "    If provided, one above the largest (signed) integer to be drawn\n",
       "    from the distribution (see above for behavior if ``high=None``).\n",
       "    If array-like, must contain integer values\n",
       "size : int or tuple of ints, optional\n",
       "    Output shape.  If the given shape is, e.g., ``(m, n, k)``, then\n",
       "    ``m * n * k`` samples are drawn.  Default is None, in which case a\n",
       "    single value is returned.\n",
       "dtype : dtype, optional\n",
       "    Desired dtype of the result. Byteorder must be native.\n",
       "    The default value is int.\n",
       "\n",
       "    .. versionadded:: 1.11.0\n",
       "\n",
       "Returns\n",
       "-------\n",
       "out : int or ndarray of ints\n",
       "    `size`-shaped array of random integers from the appropriate\n",
       "    distribution, or a single such random int if `size` not provided.\n",
       "\n",
       "See Also\n",
       "--------\n",
       "random_integers : similar to `randint`, only for the closed\n",
       "    interval [`low`, `high`], and 1 is the lowest value if `high` is\n",
       "    omitted.\n",
       "Generator.integers: which should be used for new code.\n",
       "\n",
       "Examples\n",
       "--------\n",
       ">>> np.random.randint(2, size=10)\n",
       "array([1, 0, 0, 0, 1, 1, 0, 0, 1, 0]) # random\n",
       ">>> np.random.randint(1, size=10)\n",
       "array([0, 0, 0, 0, 0, 0, 0, 0, 0, 0])\n",
       "\n",
       "Generate a 2 x 4 array of ints between 0 and 4, inclusive:\n",
       "\n",
       ">>> np.random.randint(5, size=(2, 4))\n",
       "array([[4, 0, 2, 1], # random\n",
       "       [3, 2, 2, 0]])\n",
       "\n",
       "Generate a 1 x 3 array with 3 different upper bounds\n",
       "\n",
       ">>> np.random.randint(1, [3, 5, 10])\n",
       "array([2, 2, 9]) # random\n",
       "\n",
       "Generate a 1 by 3 array with 3 different lower bounds\n",
       "\n",
       ">>> np.random.randint([1, 5, 7], 10)\n",
       "array([9, 8, 7]) # random\n",
       "\n",
       "Generate a 2 by 4 array using broadcasting with dtype of uint8\n",
       "\n",
       ">>> np.random.randint([1, 3, 5, 7], [[10], [20]], dtype=np.uint8)\n",
       "array([[ 8,  6,  9,  7], # random\n",
       "       [ 1, 16,  9, 12]], dtype=uint8)\n",
       "\u001b[0;31mType:\u001b[0m      builtin_function_or_method\n"
      ]
     },
     "metadata": {},
     "output_type": "display_data"
    }
   ],
   "source": [
    "np.random.randint?"
   ]
  },
  {
   "cell_type": "markdown",
   "metadata": {},
   "source": [
    "One thing to note is \"Return random integers from low (inclusive) to high (exclusive)\". Hence, if we want to be able to draw 364 as well, we need to use:\n",
    "\n"
   ]
  },
  {
   "cell_type": "code",
   "execution_count": 3,
   "metadata": {},
   "outputs": [
    {
     "data": {
      "text/plain": [
       "264"
      ]
     },
     "execution_count": 3,
     "metadata": {},
     "output_type": "execute_result"
    }
   ],
   "source": [
    "np.random.randint(0,365)"
   ]
  },
  {
   "cell_type": "markdown",
   "metadata": {},
   "source": [
    "We have 23 people in the room, hence we will use:\n",
    "\n"
   ]
  },
  {
   "cell_type": "code",
   "execution_count": 4,
   "metadata": {},
   "outputs": [
    {
     "data": {
      "text/plain": [
       "array([  9, 301, 151, 221, 186, 193,   4, 213, 353, 328,  78, 205, 212,\n",
       "       362, 283, 173, 353,  27, 250,  89,  43, 113, 266])"
      ]
     },
     "execution_count": 4,
     "metadata": {},
     "output_type": "execute_result"
    }
   ],
   "source": [
    "np.random.randint(0,365,size = 23)"
   ]
  },
  {
   "cell_type": "markdown",
   "metadata": {},
   "source": [
    "Since this is random, your numbers will be different from the ones I see.\n",
    "\n",
    "How do we determine whether two of these numbers in the array are the same? One solution is to loop over the array two times and see whether we find numbers that are equal. Something like:\n",
    "\n"
   ]
  },
  {
   "cell_type": "code",
   "execution_count": 5,
   "metadata": {},
   "outputs": [],
   "source": [
    "dates = np.random.randint(0,365,size=23)\n",
    "for i in range(23):\n",
    "    for j in range(i+1, 23):\n",
    "        if dates[i] == dates[j]:\n",
    "            print(\"two people have the same birthday\")"
   ]
  },
  {
   "cell_type": "markdown",
   "metadata": {},
   "source": [
    "**Remark:** Take some time to understand this code. E.g. what does the notation `dates[i]` mean? Why don't we use `for j in range(0,23)`? \n",
    "\n",
    "There is nothing wrong with this code, except that in python we do not like loops. For one thing: they tend to be slow.\n",
    "\n",
    "Hence, we need to think about our problem. This \"thinking\" is the fun of programming. Try to get a different perspective on the same problem and then figure out whether a function exists that accommodates this new perspective.\n",
    "\n",
    "To illustrate this \"thinking\": up till now we are focused on determining whether we have two people with the same birthday. But often in these type of statistical problems it helps to consider the complement: when does everyone have a different birthday?\n",
    "\n",
    "This would happen in case everyone has a **different** birthday. That is, the numbers in our array `dates` are all unique. Back to google: \"numpy unique elements\". This will give a link to: [https://numpy.org/doc/stable/reference/generated/numpy.unique.html](https://numpy.org/doc/stable/reference/generated/numpy.unique.html)\n",
    "\n",
    "Again use `np.unique?` to see the documentation in your notebook. This function returns the unique elements in an array. Just to illustrate this:\n",
    "\n"
   ]
  },
  {
   "cell_type": "code",
   "execution_count": 6,
   "metadata": {},
   "outputs": [
    {
     "name": "stdout",
     "output_type": "stream",
     "text": [
      "[1 2 3 4]\n",
      "[10 30]\n"
     ]
    }
   ],
   "source": [
    "print(np.unique([1,2,3,4]))\n",
    "print(np.unique([10,10,30]))"
   ]
  },
  {
   "cell_type": "markdown",
   "metadata": {},
   "source": [
    "Hence, we have duplicate elements in an array like `dates` if the length &#x2013;use the function `len()`&#x2013; of `np.unique(dates)` is lower than the length of `dates` itself:\n",
    "\n"
   ]
  },
  {
   "cell_type": "code",
   "execution_count": 7,
   "metadata": {},
   "outputs": [
    {
     "data": {
      "text/plain": [
       "True"
      ]
     },
     "execution_count": 7,
     "metadata": {},
     "output_type": "execute_result"
    }
   ],
   "source": [
    "dates =  np.array([10,10,30])\n",
    "len(np.unique(dates)) < len(dates)"
   ]
  },
  {
   "cell_type": "markdown",
   "metadata": {},
   "source": [
    "So the code we want to use is:\n",
    "\n"
   ]
  },
  {
   "cell_type": "code",
   "execution_count": 8,
   "metadata": {},
   "outputs": [
    {
     "data": {
      "text/plain": [
       "False"
      ]
     },
     "execution_count": 8,
     "metadata": {},
     "output_type": "execute_result"
    }
   ],
   "source": [
    "n = 23\n",
    "dates = np.random.randint(0,365,size=n)\n",
    "len(np.unique(dates)) < n"
   ]
  },
  {
   "cell_type": "markdown",
   "metadata": {},
   "source": [
    "With this code we can see whether for a randomly drawn group of 23 people, there are at least two people with the same birthday.\n",
    "\n",
    "So how do we get to a probability that this happens?\n",
    "\n",
    "Time to think again. The idea of a probability is to express how likely an event is &#x2013;here two people with the same birthday&#x2013; if we were to repeat it a lot of times. So we will repeat the birthday problem $N=5000$ times. Then we calculate in which fraction of cases, we observed at least two people with the same birthday.\n",
    "\n",
    "Repeating the experiment in numpy is easy. Think of one experiment (one array of numbers `dates`) as a row. Now we analyze 5000 such rows. Hence, we create a matrix `dates` with $N=5000$ rows and and each row has the birthday of $n=23$ people:\n",
    "\n"
   ]
  },
  {
   "cell_type": "code",
   "execution_count": 9,
   "metadata": {},
   "outputs": [
    {
     "data": {
      "text/plain": [
       "(5000, 23)"
      ]
     },
     "execution_count": 9,
     "metadata": {},
     "output_type": "execute_result"
    }
   ],
   "source": [
    "n = 23\n",
    "N = 5000\n",
    "dates = np.random.randint(0,365,size=(N,n))\n",
    "dates.shape"
   ]
  },
  {
   "cell_type": "markdown",
   "metadata": {},
   "source": [
    "Now we want to check the condition `len(unique(x)) < n` for each row `x` in the matrix `dates`. One way to check this condition for each row, is to use list-comprehension. This generates a list with 5000 elements. Each element is either `True` or `False`.\n",
    "\n"
   ]
  },
  {
   "cell_type": "code",
   "execution_count": 10,
   "metadata": {},
   "outputs": [
    {
     "data": {
      "text/plain": [
       "5000"
      ]
     },
     "execution_count": 10,
     "metadata": {},
     "output_type": "execute_result"
    }
   ],
   "source": [
    "len([len(np.unique(x)) < n for x in dates])"
   ]
  },
  {
   "cell_type": "markdown",
   "metadata": {},
   "source": [
    "`True` means that `len(unique(x)) < 23` for a particular row: there were at least two people with the same birthday.\n",
    "\n",
    "Finally, we use that python represents `True` as 1 and `False` as 0. Hence, summing the list gives the number of cases out of $N=5000$ where two or more people had the same birthday. Dividing this sum by $N=5000$ gives the probability of this happening:\n",
    "\n"
   ]
  },
  {
   "cell_type": "code",
   "execution_count": 11,
   "metadata": {},
   "outputs": [
    {
     "data": {
      "text/plain": [
       "0.514"
      ]
     },
     "execution_count": 11,
     "metadata": {},
     "output_type": "execute_result"
    }
   ],
   "source": [
    "np.sum([len(np.unique(x)) < n for x in dates])/N"
   ]
  },
  {
   "cell_type": "markdown",
   "metadata": {},
   "source": [
    "Hence, with 23 people the probability of having two or more people with the same birthday already exceeds 50%.\n",
    "\n",
    "If we want to plot how the probability of at least two people with the same birthday varies with $n$, we use the code above in a function:\n",
    "\n"
   ]
  },
  {
   "cell_type": "code",
   "execution_count": 12,
   "metadata": {},
   "outputs": [],
   "source": [
    "def birthdays(n,N=5000):\n",
    "    dates = np.random.randint(0,365,size=(N,n))\n",
    "    return np.sum([len(np.unique(x)) < n for x in dates])/N"
   ]
  },
  {
   "cell_type": "markdown",
   "metadata": {},
   "source": [
    "And then we plot this function:\n",
    "\n"
   ]
  },
  {
   "cell_type": "code",
   "execution_count": 13,
   "metadata": {},
   "outputs": [
    {
     "data": {
      "image/png": "[encoded data removed]",
      "text/plain": [
       "<Figure size 432x288 with 1 Axes>"
      ]
     },
     "metadata": {
      "needs_background": "light"
     },
     "output_type": "display_data"
    }
   ],
   "source": [
    "range_n = np.arange(2,61)\n",
    "plt.plot(range_n,[birthdays(n) for n in range_n])\n",
    "plt.xlabel('$n$')\n",
    "plt.ylabel('probability')\n",
    "plt.title('Probability that at least two people have the same birthday in a group of size $n$');"
   ]
  },
  {
   "cell_type": "markdown",
   "metadata": {},
   "source": [
    "Using the figure, you can see for which value of $n$ the probability of at least two birthdays exceeds 0.5. Note that with a group of 60 people you are almost guaranteed that at least two people have the same birthday.\n",
    "\n"
   ]
  },
  {
   "cell_type": "markdown",
   "metadata": {
    "jp-MarkdownHeadingCollapsed": true
   },
   "source": [
    "### Example 2\n",
    "\n"
   ]
  },
  {
   "cell_type": "markdown",
   "metadata": {},
   "source": [
    "For this assignment you only need the numpy library:\n",
    "\n"
   ]
  },
  {
   "cell_type": "code",
   "execution_count": 2,
   "metadata": {
    "tags": []
   },
   "outputs": [],
   "source": [
    "import numpy as np"
   ]
  },
  {
   "cell_type": "markdown",
   "metadata": {},
   "source": [
    "The idea of this assignment is to compare three experiments and see which one is more likely to lead to a success. The experiments involve rolling dice. The point is that our intuitions about which event is more likely are notoriously bad. Hence, you either need to calculate the probabilities analytically (\"by hand\") or we simulate the experiments and see which one is more likely.\n",
    "\n",
    "The point of this assignment is to simulate the probabilities using python and numpy.\n",
    "\n",
    "In the first experiment we role a die six times. The experiment is a \"success\" if there is at least one 6 in the six roles. In the second experiment, we role a die twelve times. Experiment 2 is a success if we have at least two 6 in twelve roles. Finally, we role the die eighteen times. This final experiment is a success if we have at least three 6 in the eighteen roles.\n",
    "\n",
    "Summarizing:\n",
    "\n",
    "-   experiment 1: at least one 6 in six roles of the die;\n",
    "-   experiment 2: at least two 6 in twelve roles of the die;\n",
    "-   experiment 3: at least three 6 in eighteen roles of the die.\n",
    "\n",
    "Program the experiments in python and show which of the three experiments is more likely to be successful. Explain the code that you are using.\n",
    "\n"
   ]
  },
  {
   "cell_type": "markdown",
   "metadata": {},
   "source": [
    "#### answer\n",
    "\n",
    "In your own assignments (including the final assignment) we expect you to explain the code that you use. However, here we do not give any explanation. If you did not find the answer yourself, we want you to examine the following code closely and figure out for yourself how this works.\n",
    "\n",
    "An important thing to note is that we use numpy arrays to solve the problem; not for-loops."
   ]
  },
  {
   "cell_type": "code",
   "execution_count": 3,
   "metadata": {
    "tags": []
   },
   "outputs": [
    {
     "name": "stdout",
     "output_type": "stream",
     "text": [
      "0.6546 0.6146 0.5944\n"
     ]
    }
   ],
   "source": [
    "N = 10000\n",
    "die_roles = np.random.randint(1,7,size=(N,18))\n",
    "experiment_1 = np.sum(np.sum(die_roles[:,:6] == 6,axis=1) > 0)/N\n",
    "experiment_2 = np.sum(np.sum(die_roles[:,:12] == 6,axis=1) > 1)/N\n",
    "experiment_3 = np.sum(np.sum(die_roles[:,:18] == 6,axis=1) > 2)/N\n",
    "print(experiment_1, experiment_2, experiment_3)\n"
   ]
  },
  {
   "cell_type": "markdown",
   "metadata": {},
   "source": [
    "## Assignment"
   ]
  },
  {
   "cell_type": "markdown",
   "metadata": {},
   "source": [
    "In this assignment, we will consider an interesting statistical phenomenon. When we consider variables that are normally distributed, the mass of observations moves away from the mean as the dimensions increase. The goal of the assignment is for you to verify this property using python.\n",
    "\n",
    "The objective of the assignment is that you learn how to add dimensions to a problem, once you have solved it in the one dimensional case. Further, you will be using =numpy='s =random= library and =scipy='s =stats= library to generate random numbers and plot density functions.\n",
    "\n",
    "When we think of a normal distribution, we tend to think that most observations are \"somewhere in the middle\", that is around the mean. Indeed, the 95% interval around the mean consists of 95% of the observations. This is true by definition, but we can also check this using python in the following way.\n",
    "\n",
    "First, we import the libraries that we need.\n"
   ]
  },
  {
   "cell_type": "code",
   "execution_count": 1,
   "metadata": {
    "tags": []
   },
   "outputs": [],
   "source": [
    "import numpy as np\n",
    "import matplotlib.pyplot as plt\n",
    "from scipy.stats import norm\n"
   ]
  },
  {
   "cell_type": "markdown",
   "metadata": {},
   "source": [
    "To see which percentage of people fall in the 95% interval, consider the following code.\n",
    "\n",
    "*Question* Use a markdown cell to explain the python code:\n"
   ]
  },
  {
   "cell_type": "code",
   "execution_count": 2,
   "metadata": {
    "tags": []
   },
   "outputs": [
    {
     "data": {
      "text/plain": [
       "0.95"
      ]
     },
     "execution_count": 2,
     "metadata": {},
     "output_type": "execute_result"
    }
   ],
   "source": [
    "n_observations = 10000\n",
    "data = np.random.normal(0,1,size=(n_observations))\n",
    "percentiles = np.percentile(data, [2.5,97.5])\n",
    "mask = (data > percentiles[0])&(data < percentiles[1])\n",
    "np.sum(mask)/n_observations\n"
   ]
  },
  {
   "cell_type": "markdown",
   "metadata": {},
   "source": [
    "*your explanation of this code*"
   ]
  },
  {
   "cell_type": "markdown",
   "metadata": {},
   "source": [
    "The outcome (around 0.95) is hardly surprising... But the code provided (once you understand it), will help with the main question of this assignment.\n",
    "\n",
    "Before we do this, let's visualize the result.\n",
    "\n",
    "*Question* Plot the density function of the normal distribution that we use in the code block above. In this figure, shade the 95% interval."
   ]
  },
  {
   "cell_type": "code",
   "execution_count": 5,
   "metadata": {},
   "outputs": [
    {
     "data": {
      "image/png": "[encoded data removed]",
      "text/plain": [
       "<Figure size 640x480 with 1 Axes>"
      ]
     },
     "metadata": {},
     "output_type": "display_data"
    }
   ],
   "source": [
    "x = np.linspace(-4,4,100)\n",
    "y = norm.pdf(x)\n",
    "plt.plot(x,y,label=\"normal pdf\")\n",
    "plt.fill_between(x,y, where=(x>-2)&(x<2),alpha=0.5,label=\"95% density\")\n",
    "plt.xlabel(\"$x$\")\n",
    "plt.ylabel(\"density\")\n",
    "plt.legend();"
   ]
  },
  {
   "cell_type": "markdown",
   "metadata": {},
   "source": [
    "*Question:* The data above is one-dimensional. We only have an $x$ variable (so to speak). Now we are going to generalize this to $x_1, x_2, ..., x_m$. That is, for each unit of observation we have $m$ different measurements/variables. If the unit of observation is country, $x_1, x_2, ...$ could be gdp, unemployment, inflation, fraction of people above age 65 etc. Or if the unit of observation is people, the variables could relate to length, weight, income etc. For each of these $m$ measurements we can determine the 95% interval. What we are interested in is the fraction of people who are in all 95% intervals as a function of $m$. Above we solved this for $m=1$. Solve this for $m=1,2,3...,150$ and plot the fraction of people who are in all 95% intervals as a function of $m$. We assume that the observations in the different dimensions are independently normally distributed.\n",
    "\n",
    "hint 1: this question is not easy and it is no problem if you cannot solve it. But use the markdown cells to explain to us how you want to solve this and then provide the code that implements your solution. The goal of the assignment is that you try to figure out how to program and solve a rather abstract problem. If you cannot solve this in your first attempt, use your second submission to explain what you learned.\n",
    "\n",
    "hint 2: if you use numpy arrays to solve this (which is recommended), you may want to look up the numpy function `cumprod`.\n",
    "\n",
    "note: handing in an empty assignment saying \"this is too difficult\" will not give you any points. Make a serious attempt and explain to us what you are doing/trying."
   ]
  },
  {
   "cell_type": "code",
   "execution_count": 18,
   "metadata": {
    "tags": []
   },
   "outputs": [],
   "source": [
    "n_observations = 10000\n",
    "n_traits = 150 # m above\n",
    "data = np.random.normal(0,1,size=(n_observations,n_traits))\n",
    "percentiles = np.percentile(data, [2.5,97.5],axis=0)\n",
    "mask = (data > percentiles[0][np.newaxis,:])&(data < percentiles[1][np.newaxis,:])\n",
    "#np.sum(mask)/n_observations"
   ]
  },
  {
   "cell_type": "code",
   "execution_count": 9,
   "metadata": {},
   "outputs": [
    {
     "data": {
      "text/plain": [
       "(10000, 150)"
      ]
     },
     "execution_count": 9,
     "metadata": {},
     "output_type": "execute_result"
    }
   ],
   "source": [
    "data.shape"
   ]
  },
  {
   "cell_type": "code",
   "execution_count": 16,
   "metadata": {},
   "outputs": [
    {
     "data": {
      "text/plain": [
       "(150,)"
      ]
     },
     "execution_count": 16,
     "metadata": {},
     "output_type": "execute_result"
    }
   ],
   "source": [
    "percentiles[0].shape"
   ]
  },
  {
   "cell_type": "code",
   "execution_count": 15,
   "metadata": {},
   "outputs": [
    {
     "data": {
      "text/plain": [
       "(1, 150)"
      ]
     },
     "execution_count": 15,
     "metadata": {},
     "output_type": "execute_result"
    }
   ],
   "source": [
    "percentiles[0][np.newaxis,:].shape"
   ]
  },
  {
   "cell_type": "code",
   "execution_count": 12,
   "metadata": {},
   "outputs": [
    {
     "data": {
      "text/plain": [
       "(10000, 150)"
      ]
     },
     "execution_count": 12,
     "metadata": {},
     "output_type": "execute_result"
    }
   ],
   "source": [
    "mask.shape"
   ]
  },
  {
   "cell_type": "code",
   "execution_count": 6,
   "metadata": {},
   "outputs": [
    {
     "data": {
      "text/plain": [
       "array([[0, 1, 2],\n",
       "       [3, 4, 5],\n",
       "       [6, 7, 8]])"
      ]
     },
     "execution_count": 6,
     "metadata": {},
     "output_type": "execute_result"
    }
   ],
   "source": [
    "a = np.arange(9).reshape(3,3)\n",
    "a"
   ]
  },
  {
   "cell_type": "code",
   "execution_count": 7,
   "metadata": {},
   "outputs": [
    {
     "data": {
      "text/plain": [
       "array([[  0,   0,   0],\n",
       "       [  3,  12,  60],\n",
       "       [  6,  42, 336]])"
      ]
     },
     "execution_count": 7,
     "metadata": {},
     "output_type": "execute_result"
    }
   ],
   "source": [
    "np.cumprod(a,axis=1)"
   ]
  },
  {
   "cell_type": "code",
   "execution_count": 17,
   "metadata": {},
   "outputs": [
    {
     "data": {
      "image/png": "[encoded data removed]",
      "text/plain": [
       "<Figure size 640x480 with 1 Axes>"
      ]
     },
     "metadata": {},
     "output_type": "display_data"
    }
   ],
   "source": [
    "test = np.cumprod(mask,axis=1)\n",
    "test_plot = np.sum(test,axis=(0))/n_observations\n",
    "plt.plot(np.arange(n_traits),test_plot);"
   ]
  },
  {
   "cell_type": "code",
   "execution_count": 19,
   "metadata": {},
   "outputs": [
    {
     "data": {
      "text/plain": [
       "(10000, 150)"
      ]
     },
     "execution_count": 19,
     "metadata": {},
     "output_type": "execute_result"
    }
   ],
   "source": [
    "test.shape"
   ]
  },
  {
   "cell_type": "code",
   "execution_count": 20,
   "metadata": {},
   "outputs": [
    {
     "data": {
      "text/plain": [
       "(150,)"
      ]
     },
     "execution_count": 20,
     "metadata": {},
     "output_type": "execute_result"
    }
   ],
   "source": [
    "test_plot.shape"
   ]
  },
  {
   "cell_type": "code",
   "execution_count": null,
   "metadata": {},
   "outputs": [],
   "source": []
  },
  {
   "cell_type": "code",
   "execution_count": null,
   "metadata": {},
   "outputs": [],
   "source": []
  },
  {
   "cell_type": "markdown",
   "metadata": {},
   "source": [
    "### What did you get wrong the first time and why?\n",
    "\n"
   ]
  },
  {
   "cell_type": "markdown",
   "metadata": {},
   "source": [
    "This section you only need to fill in after the assignment was discussed in class.\n",
    "\n"
   ]
  },
  {
   "cell_type": "markdown",
   "metadata": {},
   "source": [
    "### What did you learn from this assignment?\n",
    "\n"
   ]
  },
  {
   "cell_type": "markdown",
   "metadata": {},
   "source": [
    "This section you only need to fill in after the assignment was discussed in class.\n",
    "\n"
   ]
  }
 ],
 "metadata": {
  "kernelspec": {
   "display_name": "Python 3",
   "language": "python",
   "name": "python3"
  },
  "language_info": {
   "codemirror_mode": {
    "name": "ipython",
    "version": 3
   },
   "file_extension": ".py",
   "mimetype": "text/x-python",
   "name": "python",
   "nbconvert_exporter": "python",
   "pygments_lexer": "ipython3",
   "version": "3.8.5"
  },
  "org": null
 },
 "nbformat": 4,
 "nbformat_minor": 4
}
